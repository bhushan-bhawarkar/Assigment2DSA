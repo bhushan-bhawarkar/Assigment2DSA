{
  "nbformat": 4,
  "nbformat_minor": 0,
  "metadata": {
    "colab": {
      "provenance": []
    },
    "kernelspec": {
      "name": "python3",
      "display_name": "Python 3"
    },
    "language_info": {
      "name": "python"
    }
  },
  "cells": [
    {
      "cell_type": "markdown",
      "source": [
        "<aside>\n",
        "💡 **Question 1**\n",
        "Given an integer array nums of 2n integers, group these integers into n pairs (a1, b1), (a2, b2),..., (an, bn) such that the sum of min(ai, bi) for all i is maximized. Return the maximized sum.\n",
        "\n",
        "**Example 1:**\n",
        "Input: nums = [1,4,3,2]\n",
        "Output: 4\n",
        "\n",
        "**Explanation:** All possible pairings (ignoring the ordering of elements) are:\n",
        "\n",
        "1. (1, 4), (2, 3) -> min(1, 4) + min(2, 3) = 1 + 2 = 3\n",
        "2. (1, 3), (2, 4) -> min(1, 3) + min(2, 4) = 1 + 2 = 3\n",
        "3. (1, 2), (3, 4) -> min(1, 2) + min(3, 4) = 1 + 3 = 4\n",
        "So the maximum possible sum is 4\n",
        "</aside>"
      ],
      "metadata": {
        "id": "y64-h9GE2moZ"
      }
    },
    {
      "cell_type": "code",
      "source": [
        "def arraypair(nums):\n",
        "    nums.sort()\n",
        "    max_sum = 0\n",
        "    for i in range(0, len(nums), 2):\n",
        "        max_sum += nums[i]\n",
        "    return max_sum\n",
        "\n",
        "nums = [1, 4, 3, 2]\n",
        "print(arraypair(nums))\n"
      ],
      "metadata": {
        "colab": {
          "base_uri": "https://localhost:8080/"
        },
        "id": "N344hB762tYX",
        "outputId": "cd31e2b9-9dc6-4e12-894d-d5b2d8bdf269"
      },
      "execution_count": 1,
      "outputs": [
        {
          "output_type": "stream",
          "name": "stdout",
          "text": [
            "4\n"
          ]
        }
      ]
    },
    {
      "cell_type": "markdown",
      "source": [
        "Question 2\n",
        "Alice has n candies, where the ith candy is of type candyType[i]. Alice noticed that she started to gain weight, so she visited a doctor.\n",
        "\n",
        "The doctor advised Alice to only eat n / 2 of the candies she has (n is always even). Alice likes her candies very much, and she wants to eat the maximum number of different types of candies while still following the doctor's advice.\n",
        "\n",
        "Given the integer array candyType of length n, return the maximum number of different types of candies she can eat if she only eats n / 2 of them.\n",
        "\n",
        "Example 1:\n",
        "Input: candyType = [1,1,2,2,3,3]\n",
        "Output: 3\n",
        "\n",
        "Explanation: Alice can only eat 6 / 2 = 3 candies. Since there are only 3 types, she can eat one of each type."
      ],
      "metadata": {
        "id": "sWyf6qSD4b8g"
      }
    },
    {
      "cell_type": "markdown",
      "source": [],
      "metadata": {
        "id": "n2rEXe7g4w8X"
      }
    },
    {
      "cell_type": "code",
      "source": [
        "def candies(candyType):\n",
        "    unique_candies = set()\n",
        "    for i in candyType:\n",
        "\n",
        "\n",
        "        unique_candies.add(i)\n",
        "\n",
        "    return min(len(unique_candies), len(candyType) // 2)\n",
        "\n",
        "\n",
        "candyType = [1, 1, 2, 2, 3, 3]\n",
        "print(candies(candyType))\n"
      ],
      "metadata": {
        "colab": {
          "base_uri": "https://localhost:8080/"
        },
        "id": "VfciMgF34ecb",
        "outputId": "ce1cf5b9-2a49-4e83-f027-17f1c78165b2"
      },
      "execution_count": 2,
      "outputs": [
        {
          "output_type": "stream",
          "name": "stdout",
          "text": [
            "3\n"
          ]
        }
      ]
    },
    {
      "cell_type": "markdown",
      "source": [
        "Question 3\n",
        "We define a harmonious array as an array where the difference between its maximum value\n",
        "and its minimum value is exactly 1.\n",
        "\n",
        "Given an integer array nums, return the length of its longest harmonious subsequence\n",
        "among all its possible subsequences.\n",
        "\n",
        "A subsequence of an array is a sequence that can be derived from the array by deleting some or no elements without changing the order of the remaining elements.\n",
        "\n",
        "Example 1:\n",
        "Input: nums = [1,3,2,2,5,2,3,7]\n",
        "Output: 5\n",
        "\n",
        "Explanation: The longest harmonious subsequence is [3,2,2,2,3]."
      ],
      "metadata": {
        "id": "1cj0EnpT5Y6_"
      }
    },
    {
      "cell_type": "code",
      "source": [
        "def LHS(nums):\n",
        "    num_freq = {}\n",
        "\n",
        "    for i in nums:\n",
        "        num_freq[i] = num_freq.get(i, 0) + 1\n",
        "\n",
        "    max_length = 0\n",
        "    for j in num_freq:\n",
        "        if j + 1 in num_freq:\n",
        "            max_length = max(max_length, num_freq[j] + num_freq[j + 1])\n",
        "\n",
        "    return max_length\n",
        "\n",
        "nums = [1, 3, 2, 2, 5, 2, 3, 7]\n",
        "print(LHS(nums))\n"
      ],
      "metadata": {
        "colab": {
          "base_uri": "https://localhost:8080/"
        },
        "id": "LwYjAH-C4X5s",
        "outputId": "9e56e98e-032f-428f-ede1-d75e4b86b019"
      },
      "execution_count": 5,
      "outputs": [
        {
          "output_type": "stream",
          "name": "stdout",
          "text": [
            "5\n"
          ]
        }
      ]
    },
    {
      "cell_type": "markdown",
      "source": [
        "Question 4\n",
        "You have a long flowerbed in which some of the plots are planted, and some are not.\n",
        "However, flowers cannot be planted in adjacent plots.\n",
        "Given an integer array flowerbed containing 0's and 1's, where 0 means empty and 1 means not empty, and an integer n, return true if n new flowers can be planted in the flowerbed without violating the no-adjacent-flowers rule and false otherwise.\n",
        "\n",
        "Example 1:\n",
        "Input: flowerbed = [1,0,0,0,1], n = 1\n",
        "Output: true"
      ],
      "metadata": {
        "id": "A9pKf3rr6FdV"
      }
    },
    {
      "cell_type": "code",
      "source": [
        "def flowers(flowerbed, n):\n",
        "    count = 0\n",
        "    for i in range(len(flowerbed)):\n",
        "        if (\n",
        "            flowerbed[i] == 0 and\n",
        "            (i == 0 or flowerbed[i - 1] == 0) and\n",
        "            (i == len(flowerbed) - 1 or flowerbed[i + 1] == 0)\n",
        "        ):\n",
        "            flowerbed[i] = 1\n",
        "            count += 1\n",
        "            n -= 1\n",
        "            if count >= n:\n",
        "                return True\n",
        "    return False\n",
        "\n",
        "\n",
        "flowerbed = [1, 0, 0, 0, 1]\n",
        "n = 1\n",
        "print(flowers(flowerbed, n))\n"
      ],
      "metadata": {
        "colab": {
          "base_uri": "https://localhost:8080/"
        },
        "id": "o0upacwU6Gx9",
        "outputId": "1a9a16e5-e535-4d1d-e475-d20868606ee9"
      },
      "execution_count": 7,
      "outputs": [
        {
          "output_type": "stream",
          "name": "stdout",
          "text": [
            "True\n"
          ]
        }
      ]
    },
    {
      "cell_type": "markdown",
      "source": [
        "Question 5\n",
        "Given an integer array nums, find three numbers whose product is maximum and return the maximum product.\n",
        "\n",
        "Example 1:\n",
        "Input: nums = [1,2,3]\n",
        "Output: 6"
      ],
      "metadata": {
        "id": "Bja17cNc6kj8"
      }
    },
    {
      "cell_type": "code",
      "source": [
        "def maxproduct(nums):\n",
        "    nums.sort()\n",
        "    n = len(nums)\n",
        "    return max(nums[n - 1] * nums[n - 2] * nums[n - 3], nums[0] * nums[1] * nums[n - 1])\n",
        "\n",
        "\n",
        "nums = [1, 2, 3]\n",
        "print(maxproduct(nums))\n"
      ],
      "metadata": {
        "colab": {
          "base_uri": "https://localhost:8080/"
        },
        "id": "4tMVqlPZ6WT-",
        "outputId": "d1a199e7-e55a-4065-c537-0e91a01f68fe"
      },
      "execution_count": 8,
      "outputs": [
        {
          "output_type": "stream",
          "name": "stdout",
          "text": [
            "6\n"
          ]
        }
      ]
    },
    {
      "cell_type": "markdown",
      "source": [
        "Question 6\n",
        "Given an array of integers nums which is sorted in ascending order, and an integer target,\n",
        "write a function to search target in nums. If target exists, then return its index. Otherwise,\n",
        "return -1.\n",
        "\n",
        "You must write an algorithm with O(log n) runtime complexity.\n",
        "\n",
        "Input: nums = [-1,0,3,5,9,12], target = 9\n",
        "Output: 4\n",
        "\n",
        "Explanation: 9 exists in nums and its index is 4"
      ],
      "metadata": {
        "id": "R3Y9qoN-7Ah1"
      }
    },
    {
      "cell_type": "code",
      "source": [
        "def search(nums, target):\n",
        "    left = 0\n",
        "    right = len(nums) - 1\n",
        "\n",
        "    while left <= right:\n",
        "        mid = (left + right) // 2\n",
        "        if nums[mid] == target:\n",
        "            return mid\n",
        "        elif nums[mid] < target:\n",
        "            left = mid + 1\n",
        "        else:\n",
        "            right = mid - 1\n",
        "\n",
        "    return -1\n",
        "\n",
        "nums = [-1, 0, 3, 5, 9, 12]\n",
        "target = 9\n",
        "print(search(nums, target))\n"
      ],
      "metadata": {
        "colab": {
          "base_uri": "https://localhost:8080/"
        },
        "id": "bwVnAYu27Bd_",
        "outputId": "f78a615b-c7f6-4c12-ebf3-3f58d6633853"
      },
      "execution_count": 9,
      "outputs": [
        {
          "output_type": "stream",
          "name": "stdout",
          "text": [
            "4\n"
          ]
        }
      ]
    },
    {
      "cell_type": "markdown",
      "source": [
        "Question 7\n",
        "An array is monotonic if it is either monotone increasing or monotone decreasing.\n",
        "\n",
        "An array nums is monotone increasing if for all i <= j, nums[i] <= nums[j]. An array nums is\n",
        "monotone decreasing if for all i <= j, nums[i] >= nums[j].\n",
        "\n",
        "Given an integer array nums, return true if the given array is monotonic, or false otherwise.\n",
        "\n",
        "Example 1:\n",
        "Input: nums = [1,2,2,3]\n",
        "Output: true"
      ],
      "metadata": {
        "id": "zVRfXbKi7T0M"
      }
    },
    {
      "cell_type": "code",
      "source": [
        "def monotonic(nums):\n",
        "    increasing = True\n",
        "    decreasing = True\n",
        "\n",
        "    for i in range(1, len(nums)):\n",
        "        if nums[i] < nums[i - 1]:\n",
        "            increasing = False\n",
        "        if nums[i] > nums[i - 1]:\n",
        "            decreasing = False\n",
        "        if not increasing and not decreasing:\n",
        "            return False\n",
        "\n",
        "    return True\n",
        "\n",
        "\n",
        "nums = [1, 2, 2, 3]\n",
        "print(monotonic(nums))\n"
      ],
      "metadata": {
        "colab": {
          "base_uri": "https://localhost:8080/"
        },
        "id": "zj5pt7OF7Y0k",
        "outputId": "5d643167-f962-4dfe-ae36-df7213431cff"
      },
      "execution_count": 10,
      "outputs": [
        {
          "output_type": "stream",
          "name": "stdout",
          "text": [
            "True\n"
          ]
        }
      ]
    },
    {
      "cell_type": "markdown",
      "source": [
        "Question 8\n",
        "You are given an integer array nums and an integer k.\n",
        "\n",
        "In one operation, you can choose any index i where 0 <= i < nums.length and change nums[i] to nums[i] + x where x is an integer from the range [-k, k]. You can apply this operation at most once for each index i.\n",
        "\n",
        "The score of nums is the difference between the maximum and minimum elements in nums.\n",
        "\n",
        "Return the minimum score of nums after applying the mentioned operation at most once for each index in it.\n",
        "\n",
        "Example 1:\n",
        "Input: nums = [1], k = 0\n",
        "Output: 0\n",
        "\n",
        "Explanation: The score is max(nums) - min(nums) = 1 - 1 = 0."
      ],
      "metadata": {
        "id": "kcjQzaim70L6"
      }
    },
    {
      "cell_type": "code",
      "source": [
        "def minscore(nums, k):\n",
        "    minimum = min(nums)\n",
        "    maximum = max(nums)\n",
        "\n",
        "    if maximum - minimum <= 2 * k:\n",
        "        return 0\n",
        "\n",
        "    middle = (minimum + maximum) // 2\n",
        "\n",
        "    for i in range(len(nums)):\n",
        "        if nums[i] <= middle - k:\n",
        "            nums[i] = middle - k\n",
        "        elif nums[i] >= middle + k:\n",
        "            nums[i] = middle + k\n",
        "\n",
        "    new_minimum = min(nums)\n",
        "    new_maximum = max(nums)\n",
        "\n",
        "    return new_maximum - new_minimum\n",
        "\n",
        "\n",
        "nums = [1]\n",
        "k = 0\n",
        "print(minscore(nums, k))\n"
      ],
      "metadata": {
        "colab": {
          "base_uri": "https://localhost:8080/"
        },
        "id": "WSNMz5cd75Ih",
        "outputId": "9eded4cb-3b58-4f31-fbdd-593dbb9a85fc"
      },
      "execution_count": 11,
      "outputs": [
        {
          "output_type": "stream",
          "name": "stdout",
          "text": [
            "0\n"
          ]
        }
      ]
    },
    {
      "cell_type": "code",
      "source": [],
      "metadata": {
        "id": "sRbVFym38KqK"
      },
      "execution_count": null,
      "outputs": []
    }
  ]
}